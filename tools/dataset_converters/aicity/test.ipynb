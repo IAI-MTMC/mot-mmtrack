{
 "cells": [
  {
   "cell_type": "code",
   "execution_count": 1,
   "metadata": {},
   "outputs": [],
   "source": [
    "from aicity2coco import parse_gts\n",
    "\n",
    "gts = parse_gts(\"../../../demo/label.txt\")"
   ]
  },
  {
   "cell_type": "code",
   "execution_count": 23,
   "metadata": {},
   "outputs": [],
   "source": [
    "import os\n",
    "from torchvision.utils import draw_bounding_boxes\n",
    "from torchvision.io import read_image\n",
    "from torchvision.ops import box_convert\n",
    "import torch\n",
    "import matplotlib.pyplot as plt\n",
    "\n",
    "imgs_dir = \"../../../demo/imgs\"\n",
    "img_id = 6 * 3\n",
    "\n",
    "def make_ann_img(img_id, gts):\n",
    "    try:\n",
    "        img = read_image(os.path.join(imgs_dir, f\"{img_id:06d}.jpg\"))\n",
    "\n",
    "        bboxes = []\n",
    "        for ann in gts:\n",
    "            if ann[\"image_id\"] == img_id:\n",
    "                bboxes.append(ann[\"bbox\"])\n",
    "        \n",
    "        if len(bboxes) == 0:\n",
    "            return img\n",
    "        else:\n",
    "            bboxes = torch.tensor(bboxes)\n",
    "            bboxes = box_convert(bboxes, 'xywh', 'xyxy')\n",
    "\n",
    "            ret = draw_bounding_boxes(img, bboxes, width=3)\n",
    "\n",
    "            return ret\n",
    "    except:\n",
    "        print(bboxes)\n",
    "\n",
    "import cv2\n",
    "writer = cv2.VideoWriter(\"out.avi\", cv2.VideoWriter_fourcc(*\"XVID\"), 5, (1920, 1080))\n",
    "\n",
    "for img_id in range(6, 20000, 6):\n",
    "    ret = make_ann_img(img_id, gts)\n",
    "    ret = ret.moveaxis(0, -1).numpy()\n",
    "\n",
    "    writer.write(ret)\n",
    "writer.release()"
   ]
  }
 ],
 "metadata": {
  "kernelspec": {
   "display_name": "mot-mmtrack",
   "language": "python",
   "name": "python3"
  },
  "language_info": {
   "codemirror_mode": {
    "name": "ipython",
    "version": 3
   },
   "file_extension": ".py",
   "mimetype": "text/x-python",
   "name": "python",
   "nbconvert_exporter": "python",
   "pygments_lexer": "ipython3",
   "version": "3.10.9"
  },
  "orig_nbformat": 4,
  "vscode": {
   "interpreter": {
    "hash": "e4bfa47eb115d085a5fd36886584e2476f8ebafa1f4dedfed6cf2234c0e3adec"
   }
  }
 },
 "nbformat": 4,
 "nbformat_minor": 2
}
