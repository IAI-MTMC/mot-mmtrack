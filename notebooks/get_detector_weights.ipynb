{
 "cells": [
  {
   "cell_type": "code",
   "execution_count": 5,
   "metadata": {},
   "outputs": [],
   "source": [
    "import torch\n",
    "\n",
    "ckpt = torch.load('../checkpoints/qdtrack_faster-rcnn_aic-w0.1.pth', map_location='cpu')"
   ]
  },
  {
   "cell_type": "code",
   "execution_count": null,
   "metadata": {},
   "outputs": [],
   "source": [
    "x = torch.tensor([\n",
    "    [1, 2],\n",
    "    [2, 0],\n",
    "    [1, 1]\n",
    "])\n",
    "\n",
    "w1 = torch.tensor([\n",
    "    [1, -1],\n",
    "    [0, 1],\n",
    "    [1, 1]\n",
    "])\n",
    "\n",
    "w2 = torch.tensor([\n",
    "    [0, 0, 1],\n",
    "    [0, 0, -1],\n",
    "    [2, 0, 2]\n",
    "])\n",
    "\n",
    "w3 = torch.tensor([1, -1, -1])"
   ]
  },
  {
   "cell_type": "code",
   "execution_count": 6,
   "metadata": {},
   "outputs": [
    {
     "data": {
      "text/plain": [
       "[{'start_factor': 0.001,\n",
       "  'end_factor': 1.0,\n",
       "  'total_iters': 999,\n",
       "  'param_name': 'lr',\n",
       "  'begin': 0,\n",
       "  'end': 1000,\n",
       "  'by_epoch': False,\n",
       "  'base_values': [0.01],\n",
       "  'last_step': 999,\n",
       "  '_global_step': 21840,\n",
       "  'verbose': False,\n",
       "  '_last_value': [0.009999999999999953]},\n",
       " {'milestones': Counter({1: 1}),\n",
       "  'gamma': 0.1,\n",
       "  'param_name': 'lr',\n",
       "  'begin': 0,\n",
       "  'end': 2,\n",
       "  'by_epoch': True,\n",
       "  'base_values': [0.01],\n",
       "  'last_step': 1,\n",
       "  '_global_step': 1,\n",
       "  'verbose': False,\n",
       "  '_last_value': [0.0009999999999999955]}]"
      ]
     },
     "execution_count": 6,
     "metadata": {},
     "output_type": "execute_result"
    }
   ],
   "source": [
    "ckpt['param_schedulers']"
   ]
  },
  {
   "cell_type": "code",
   "execution_count": 3,
   "metadata": {},
   "outputs": [
    {
     "data": {
      "text/plain": [
       "odict_keys(['detector.backbone.conv1.weight', 'detector.backbone.bn1.weight', 'detector.backbone.bn1.bias', 'detector.backbone.bn1.running_mean', 'detector.backbone.bn1.running_var', 'detector.backbone.bn1.num_batches_tracked', 'detector.backbone.layer1.0.conv1.weight', 'detector.backbone.layer1.0.bn1.weight', 'detector.backbone.layer1.0.bn1.bias', 'detector.backbone.layer1.0.bn1.running_mean', 'detector.backbone.layer1.0.bn1.running_var', 'detector.backbone.layer1.0.bn1.num_batches_tracked', 'detector.backbone.layer1.0.conv2.weight', 'detector.backbone.layer1.0.bn2.weight', 'detector.backbone.layer1.0.bn2.bias', 'detector.backbone.layer1.0.bn2.running_mean', 'detector.backbone.layer1.0.bn2.running_var', 'detector.backbone.layer1.0.bn2.num_batches_tracked', 'detector.backbone.layer1.0.conv3.weight', 'detector.backbone.layer1.0.bn3.weight', 'detector.backbone.layer1.0.bn3.bias', 'detector.backbone.layer1.0.bn3.running_mean', 'detector.backbone.layer1.0.bn3.running_var', 'detector.backbone.layer1.0.bn3.num_batches_tracked', 'detector.backbone.layer1.0.downsample.0.weight', 'detector.backbone.layer1.0.downsample.1.weight', 'detector.backbone.layer1.0.downsample.1.bias', 'detector.backbone.layer1.0.downsample.1.running_mean', 'detector.backbone.layer1.0.downsample.1.running_var', 'detector.backbone.layer1.0.downsample.1.num_batches_tracked', 'detector.backbone.layer1.1.conv1.weight', 'detector.backbone.layer1.1.bn1.weight', 'detector.backbone.layer1.1.bn1.bias', 'detector.backbone.layer1.1.bn1.running_mean', 'detector.backbone.layer1.1.bn1.running_var', 'detector.backbone.layer1.1.bn1.num_batches_tracked', 'detector.backbone.layer1.1.conv2.weight', 'detector.backbone.layer1.1.bn2.weight', 'detector.backbone.layer1.1.bn2.bias', 'detector.backbone.layer1.1.bn2.running_mean', 'detector.backbone.layer1.1.bn2.running_var', 'detector.backbone.layer1.1.bn2.num_batches_tracked', 'detector.backbone.layer1.1.conv3.weight', 'detector.backbone.layer1.1.bn3.weight', 'detector.backbone.layer1.1.bn3.bias', 'detector.backbone.layer1.1.bn3.running_mean', 'detector.backbone.layer1.1.bn3.running_var', 'detector.backbone.layer1.1.bn3.num_batches_tracked', 'detector.backbone.layer1.2.conv1.weight', 'detector.backbone.layer1.2.bn1.weight', 'detector.backbone.layer1.2.bn1.bias', 'detector.backbone.layer1.2.bn1.running_mean', 'detector.backbone.layer1.2.bn1.running_var', 'detector.backbone.layer1.2.bn1.num_batches_tracked', 'detector.backbone.layer1.2.conv2.weight', 'detector.backbone.layer1.2.bn2.weight', 'detector.backbone.layer1.2.bn2.bias', 'detector.backbone.layer1.2.bn2.running_mean', 'detector.backbone.layer1.2.bn2.running_var', 'detector.backbone.layer1.2.bn2.num_batches_tracked', 'detector.backbone.layer1.2.conv3.weight', 'detector.backbone.layer1.2.bn3.weight', 'detector.backbone.layer1.2.bn3.bias', 'detector.backbone.layer1.2.bn3.running_mean', 'detector.backbone.layer1.2.bn3.running_var', 'detector.backbone.layer1.2.bn3.num_batches_tracked', 'detector.backbone.layer2.0.conv1.weight', 'detector.backbone.layer2.0.bn1.weight', 'detector.backbone.layer2.0.bn1.bias', 'detector.backbone.layer2.0.bn1.running_mean', 'detector.backbone.layer2.0.bn1.running_var', 'detector.backbone.layer2.0.bn1.num_batches_tracked', 'detector.backbone.layer2.0.conv2.weight', 'detector.backbone.layer2.0.bn2.weight', 'detector.backbone.layer2.0.bn2.bias', 'detector.backbone.layer2.0.bn2.running_mean', 'detector.backbone.layer2.0.bn2.running_var', 'detector.backbone.layer2.0.bn2.num_batches_tracked', 'detector.backbone.layer2.0.conv3.weight', 'detector.backbone.layer2.0.bn3.weight', 'detector.backbone.layer2.0.bn3.bias', 'detector.backbone.layer2.0.bn3.running_mean', 'detector.backbone.layer2.0.bn3.running_var', 'detector.backbone.layer2.0.bn3.num_batches_tracked', 'detector.backbone.layer2.0.downsample.0.weight', 'detector.backbone.layer2.0.downsample.1.weight', 'detector.backbone.layer2.0.downsample.1.bias', 'detector.backbone.layer2.0.downsample.1.running_mean', 'detector.backbone.layer2.0.downsample.1.running_var', 'detector.backbone.layer2.0.downsample.1.num_batches_tracked', 'detector.backbone.layer2.1.conv1.weight', 'detector.backbone.layer2.1.bn1.weight', 'detector.backbone.layer2.1.bn1.bias', 'detector.backbone.layer2.1.bn1.running_mean', 'detector.backbone.layer2.1.bn1.running_var', 'detector.backbone.layer2.1.bn1.num_batches_tracked', 'detector.backbone.layer2.1.conv2.weight', 'detector.backbone.layer2.1.bn2.weight', 'detector.backbone.layer2.1.bn2.bias', 'detector.backbone.layer2.1.bn2.running_mean', 'detector.backbone.layer2.1.bn2.running_var', 'detector.backbone.layer2.1.bn2.num_batches_tracked', 'detector.backbone.layer2.1.conv3.weight', 'detector.backbone.layer2.1.bn3.weight', 'detector.backbone.layer2.1.bn3.bias', 'detector.backbone.layer2.1.bn3.running_mean', 'detector.backbone.layer2.1.bn3.running_var', 'detector.backbone.layer2.1.bn3.num_batches_tracked', 'detector.backbone.layer2.2.conv1.weight', 'detector.backbone.layer2.2.bn1.weight', 'detector.backbone.layer2.2.bn1.bias', 'detector.backbone.layer2.2.bn1.running_mean', 'detector.backbone.layer2.2.bn1.running_var', 'detector.backbone.layer2.2.bn1.num_batches_tracked', 'detector.backbone.layer2.2.conv2.weight', 'detector.backbone.layer2.2.bn2.weight', 'detector.backbone.layer2.2.bn2.bias', 'detector.backbone.layer2.2.bn2.running_mean', 'detector.backbone.layer2.2.bn2.running_var', 'detector.backbone.layer2.2.bn2.num_batches_tracked', 'detector.backbone.layer2.2.conv3.weight', 'detector.backbone.layer2.2.bn3.weight', 'detector.backbone.layer2.2.bn3.bias', 'detector.backbone.layer2.2.bn3.running_mean', 'detector.backbone.layer2.2.bn3.running_var', 'detector.backbone.layer2.2.bn3.num_batches_tracked', 'detector.backbone.layer2.3.conv1.weight', 'detector.backbone.layer2.3.bn1.weight', 'detector.backbone.layer2.3.bn1.bias', 'detector.backbone.layer2.3.bn1.running_mean', 'detector.backbone.layer2.3.bn1.running_var', 'detector.backbone.layer2.3.bn1.num_batches_tracked', 'detector.backbone.layer2.3.conv2.weight', 'detector.backbone.layer2.3.bn2.weight', 'detector.backbone.layer2.3.bn2.bias', 'detector.backbone.layer2.3.bn2.running_mean', 'detector.backbone.layer2.3.bn2.running_var', 'detector.backbone.layer2.3.bn2.num_batches_tracked', 'detector.backbone.layer2.3.conv3.weight', 'detector.backbone.layer2.3.bn3.weight', 'detector.backbone.layer2.3.bn3.bias', 'detector.backbone.layer2.3.bn3.running_mean', 'detector.backbone.layer2.3.bn3.running_var', 'detector.backbone.layer2.3.bn3.num_batches_tracked', 'detector.backbone.layer3.0.conv1.weight', 'detector.backbone.layer3.0.bn1.weight', 'detector.backbone.layer3.0.bn1.bias', 'detector.backbone.layer3.0.bn1.running_mean', 'detector.backbone.layer3.0.bn1.running_var', 'detector.backbone.layer3.0.bn1.num_batches_tracked', 'detector.backbone.layer3.0.conv2.weight', 'detector.backbone.layer3.0.bn2.weight', 'detector.backbone.layer3.0.bn2.bias', 'detector.backbone.layer3.0.bn2.running_mean', 'detector.backbone.layer3.0.bn2.running_var', 'detector.backbone.layer3.0.bn2.num_batches_tracked', 'detector.backbone.layer3.0.conv3.weight', 'detector.backbone.layer3.0.bn3.weight', 'detector.backbone.layer3.0.bn3.bias', 'detector.backbone.layer3.0.bn3.running_mean', 'detector.backbone.layer3.0.bn3.running_var', 'detector.backbone.layer3.0.bn3.num_batches_tracked', 'detector.backbone.layer3.0.downsample.0.weight', 'detector.backbone.layer3.0.downsample.1.weight', 'detector.backbone.layer3.0.downsample.1.bias', 'detector.backbone.layer3.0.downsample.1.running_mean', 'detector.backbone.layer3.0.downsample.1.running_var', 'detector.backbone.layer3.0.downsample.1.num_batches_tracked', 'detector.backbone.layer3.1.conv1.weight', 'detector.backbone.layer3.1.bn1.weight', 'detector.backbone.layer3.1.bn1.bias', 'detector.backbone.layer3.1.bn1.running_mean', 'detector.backbone.layer3.1.bn1.running_var', 'detector.backbone.layer3.1.bn1.num_batches_tracked', 'detector.backbone.layer3.1.conv2.weight', 'detector.backbone.layer3.1.bn2.weight', 'detector.backbone.layer3.1.bn2.bias', 'detector.backbone.layer3.1.bn2.running_mean', 'detector.backbone.layer3.1.bn2.running_var', 'detector.backbone.layer3.1.bn2.num_batches_tracked', 'detector.backbone.layer3.1.conv3.weight', 'detector.backbone.layer3.1.bn3.weight', 'detector.backbone.layer3.1.bn3.bias', 'detector.backbone.layer3.1.bn3.running_mean', 'detector.backbone.layer3.1.bn3.running_var', 'detector.backbone.layer3.1.bn3.num_batches_tracked', 'detector.backbone.layer3.2.conv1.weight', 'detector.backbone.layer3.2.bn1.weight', 'detector.backbone.layer3.2.bn1.bias', 'detector.backbone.layer3.2.bn1.running_mean', 'detector.backbone.layer3.2.bn1.running_var', 'detector.backbone.layer3.2.bn1.num_batches_tracked', 'detector.backbone.layer3.2.conv2.weight', 'detector.backbone.layer3.2.bn2.weight', 'detector.backbone.layer3.2.bn2.bias', 'detector.backbone.layer3.2.bn2.running_mean', 'detector.backbone.layer3.2.bn2.running_var', 'detector.backbone.layer3.2.bn2.num_batches_tracked', 'detector.backbone.layer3.2.conv3.weight', 'detector.backbone.layer3.2.bn3.weight', 'detector.backbone.layer3.2.bn3.bias', 'detector.backbone.layer3.2.bn3.running_mean', 'detector.backbone.layer3.2.bn3.running_var', 'detector.backbone.layer3.2.bn3.num_batches_tracked', 'detector.backbone.layer3.3.conv1.weight', 'detector.backbone.layer3.3.bn1.weight', 'detector.backbone.layer3.3.bn1.bias', 'detector.backbone.layer3.3.bn1.running_mean', 'detector.backbone.layer3.3.bn1.running_var', 'detector.backbone.layer3.3.bn1.num_batches_tracked', 'detector.backbone.layer3.3.conv2.weight', 'detector.backbone.layer3.3.bn2.weight', 'detector.backbone.layer3.3.bn2.bias', 'detector.backbone.layer3.3.bn2.running_mean', 'detector.backbone.layer3.3.bn2.running_var', 'detector.backbone.layer3.3.bn2.num_batches_tracked', 'detector.backbone.layer3.3.conv3.weight', 'detector.backbone.layer3.3.bn3.weight', 'detector.backbone.layer3.3.bn3.bias', 'detector.backbone.layer3.3.bn3.running_mean', 'detector.backbone.layer3.3.bn3.running_var', 'detector.backbone.layer3.3.bn3.num_batches_tracked', 'detector.backbone.layer3.4.conv1.weight', 'detector.backbone.layer3.4.bn1.weight', 'detector.backbone.layer3.4.bn1.bias', 'detector.backbone.layer3.4.bn1.running_mean', 'detector.backbone.layer3.4.bn1.running_var', 'detector.backbone.layer3.4.bn1.num_batches_tracked', 'detector.backbone.layer3.4.conv2.weight', 'detector.backbone.layer3.4.bn2.weight', 'detector.backbone.layer3.4.bn2.bias', 'detector.backbone.layer3.4.bn2.running_mean', 'detector.backbone.layer3.4.bn2.running_var', 'detector.backbone.layer3.4.bn2.num_batches_tracked', 'detector.backbone.layer3.4.conv3.weight', 'detector.backbone.layer3.4.bn3.weight', 'detector.backbone.layer3.4.bn3.bias', 'detector.backbone.layer3.4.bn3.running_mean', 'detector.backbone.layer3.4.bn3.running_var', 'detector.backbone.layer3.4.bn3.num_batches_tracked', 'detector.backbone.layer3.5.conv1.weight', 'detector.backbone.layer3.5.bn1.weight', 'detector.backbone.layer3.5.bn1.bias', 'detector.backbone.layer3.5.bn1.running_mean', 'detector.backbone.layer3.5.bn1.running_var', 'detector.backbone.layer3.5.bn1.num_batches_tracked', 'detector.backbone.layer3.5.conv2.weight', 'detector.backbone.layer3.5.bn2.weight', 'detector.backbone.layer3.5.bn2.bias', 'detector.backbone.layer3.5.bn2.running_mean', 'detector.backbone.layer3.5.bn2.running_var', 'detector.backbone.layer3.5.bn2.num_batches_tracked', 'detector.backbone.layer3.5.conv3.weight', 'detector.backbone.layer3.5.bn3.weight', 'detector.backbone.layer3.5.bn3.bias', 'detector.backbone.layer3.5.bn3.running_mean', 'detector.backbone.layer3.5.bn3.running_var', 'detector.backbone.layer3.5.bn3.num_batches_tracked', 'detector.backbone.layer4.0.conv1.weight', 'detector.backbone.layer4.0.bn1.weight', 'detector.backbone.layer4.0.bn1.bias', 'detector.backbone.layer4.0.bn1.running_mean', 'detector.backbone.layer4.0.bn1.running_var', 'detector.backbone.layer4.0.bn1.num_batches_tracked', 'detector.backbone.layer4.0.conv2.weight', 'detector.backbone.layer4.0.bn2.weight', 'detector.backbone.layer4.0.bn2.bias', 'detector.backbone.layer4.0.bn2.running_mean', 'detector.backbone.layer4.0.bn2.running_var', 'detector.backbone.layer4.0.bn2.num_batches_tracked', 'detector.backbone.layer4.0.conv3.weight', 'detector.backbone.layer4.0.bn3.weight', 'detector.backbone.layer4.0.bn3.bias', 'detector.backbone.layer4.0.bn3.running_mean', 'detector.backbone.layer4.0.bn3.running_var', 'detector.backbone.layer4.0.bn3.num_batches_tracked', 'detector.backbone.layer4.0.downsample.0.weight', 'detector.backbone.layer4.0.downsample.1.weight', 'detector.backbone.layer4.0.downsample.1.bias', 'detector.backbone.layer4.0.downsample.1.running_mean', 'detector.backbone.layer4.0.downsample.1.running_var', 'detector.backbone.layer4.0.downsample.1.num_batches_tracked', 'detector.backbone.layer4.1.conv1.weight', 'detector.backbone.layer4.1.bn1.weight', 'detector.backbone.layer4.1.bn1.bias', 'detector.backbone.layer4.1.bn1.running_mean', 'detector.backbone.layer4.1.bn1.running_var', 'detector.backbone.layer4.1.bn1.num_batches_tracked', 'detector.backbone.layer4.1.conv2.weight', 'detector.backbone.layer4.1.bn2.weight', 'detector.backbone.layer4.1.bn2.bias', 'detector.backbone.layer4.1.bn2.running_mean', 'detector.backbone.layer4.1.bn2.running_var', 'detector.backbone.layer4.1.bn2.num_batches_tracked', 'detector.backbone.layer4.1.conv3.weight', 'detector.backbone.layer4.1.bn3.weight', 'detector.backbone.layer4.1.bn3.bias', 'detector.backbone.layer4.1.bn3.running_mean', 'detector.backbone.layer4.1.bn3.running_var', 'detector.backbone.layer4.1.bn3.num_batches_tracked', 'detector.backbone.layer4.2.conv1.weight', 'detector.backbone.layer4.2.bn1.weight', 'detector.backbone.layer4.2.bn1.bias', 'detector.backbone.layer4.2.bn1.running_mean', 'detector.backbone.layer4.2.bn1.running_var', 'detector.backbone.layer4.2.bn1.num_batches_tracked', 'detector.backbone.layer4.2.conv2.weight', 'detector.backbone.layer4.2.bn2.weight', 'detector.backbone.layer4.2.bn2.bias', 'detector.backbone.layer4.2.bn2.running_mean', 'detector.backbone.layer4.2.bn2.running_var', 'detector.backbone.layer4.2.bn2.num_batches_tracked', 'detector.backbone.layer4.2.conv3.weight', 'detector.backbone.layer4.2.bn3.weight', 'detector.backbone.layer4.2.bn3.bias', 'detector.backbone.layer4.2.bn3.running_mean', 'detector.backbone.layer4.2.bn3.running_var', 'detector.backbone.layer4.2.bn3.num_batches_tracked', 'detector.neck.lateral_convs.0.conv.weight', 'detector.neck.lateral_convs.0.conv.bias', 'detector.neck.lateral_convs.1.conv.weight', 'detector.neck.lateral_convs.1.conv.bias', 'detector.neck.lateral_convs.2.conv.weight', 'detector.neck.lateral_convs.2.conv.bias', 'detector.neck.lateral_convs.3.conv.weight', 'detector.neck.lateral_convs.3.conv.bias', 'detector.neck.fpn_convs.0.conv.weight', 'detector.neck.fpn_convs.0.conv.bias', 'detector.neck.fpn_convs.1.conv.weight', 'detector.neck.fpn_convs.1.conv.bias', 'detector.neck.fpn_convs.2.conv.weight', 'detector.neck.fpn_convs.2.conv.bias', 'detector.neck.fpn_convs.3.conv.weight', 'detector.neck.fpn_convs.3.conv.bias', 'detector.rpn_head.rpn_conv.weight', 'detector.rpn_head.rpn_conv.bias', 'detector.rpn_head.rpn_cls.weight', 'detector.rpn_head.rpn_cls.bias', 'detector.rpn_head.rpn_reg.weight', 'detector.rpn_head.rpn_reg.bias', 'detector.roi_head.bbox_head.fc_cls.weight', 'detector.roi_head.bbox_head.fc_cls.bias', 'detector.roi_head.bbox_head.fc_reg.weight', 'detector.roi_head.bbox_head.fc_reg.bias', 'detector.roi_head.bbox_head.shared_fcs.0.weight', 'detector.roi_head.bbox_head.shared_fcs.0.bias', 'detector.roi_head.bbox_head.shared_fcs.1.weight', 'detector.roi_head.bbox_head.shared_fcs.1.bias', 'track_head.embed_head.convs.0.conv.weight', 'track_head.embed_head.convs.0.gn.weight', 'track_head.embed_head.convs.0.gn.bias', 'track_head.embed_head.convs.1.conv.weight', 'track_head.embed_head.convs.1.gn.weight', 'track_head.embed_head.convs.1.gn.bias', 'track_head.embed_head.convs.2.conv.weight', 'track_head.embed_head.convs.2.gn.weight', 'track_head.embed_head.convs.2.gn.bias', 'track_head.embed_head.convs.3.conv.weight', 'track_head.embed_head.convs.3.gn.weight', 'track_head.embed_head.convs.3.gn.bias', 'track_head.embed_head.fcs.0.weight', 'track_head.embed_head.fcs.0.bias', 'track_head.embed_head.fcs.1.weight', 'track_head.embed_head.fcs.1.bias', 'track_head.embed_head.fc_embed.weight', 'track_head.embed_head.fc_embed.bias'])"
      ]
     },
     "execution_count": 3,
     "metadata": {},
     "output_type": "execute_result"
    }
   ],
   "source": [
    "ckpt['state_dict'].keys()"
   ]
  },
  {
   "cell_type": "code",
   "execution_count": 5,
   "metadata": {},
   "outputs": [],
   "source": [
    "new_ckpt = {}\n",
    "\n",
    "for param_name in ckpt['state_dict']:\n",
    "    if 'detector' in param_name:\n",
    "        new_param_name = param_name.replace('detector.', '')\n",
    "        new_ckpt[new_param_name] = ckpt['state_dict'][param_name]"
   ]
  },
  {
   "cell_type": "code",
   "execution_count": null,
   "metadata": {},
   "outputs": [],
   "source": [
    "torch.save(new_ckpt, '../checkpoints/faster-rcnn_r50_fpn_aic.pth')"
   ]
  }
 ],
 "metadata": {
  "kernelspec": {
   "display_name": "mot-mmtrack-1x",
   "language": "python",
   "name": "python3"
  },
  "language_info": {
   "codemirror_mode": {
    "name": "ipython",
    "version": 3
   },
   "file_extension": ".py",
   "mimetype": "text/x-python",
   "name": "python",
   "nbconvert_exporter": "python",
   "pygments_lexer": "ipython3",
   "version": "3.10.9"
  },
  "orig_nbformat": 4
 },
 "nbformat": 4,
 "nbformat_minor": 2
}
